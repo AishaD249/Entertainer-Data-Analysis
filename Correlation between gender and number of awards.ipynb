{
 "cells": [
  {
   "cell_type": "code",
   "execution_count": 16,
   "id": "e5c8597d-7ba9-4360-b512-c35b159403c0",
   "metadata": {},
   "outputs": [
    {
     "name": "stdout",
     "output_type": "stream",
     "text": [
      "       Entertainer Profession Gender (traditional)  Birth Year  \\\n",
      "0            Adele     Singer                    F        1988   \n",
      "1   Angelina Jolie      Actor                    F        1975   \n",
      "2  Aretha Franklin     Singer                    F        1942   \n",
      "3      Bette Davis      Actor                    F        1908   \n",
      "4      Betty White      Actor                    F        1922   \n",
      "\n",
      "   Year of Breakthrough/#1 Hit/Award Nomination  \\\n",
      "0                                          2008   \n",
      "1                                          1999   \n",
      "2                                          1967   \n",
      "3                                          1934   \n",
      "4                                          1952   \n",
      "\n",
      "                          Breakthrough Name  Year of First Oscar/Grammy/Emmy  \\\n",
      "0                                        19                           2009.0   \n",
      "1                         Girl, Interrupted                           1999.0   \n",
      "2  I Never Loved a Man (The Way I Love You)                           1968.0   \n",
      "3                          Of Human Bondage                           1935.0   \n",
      "4                      Life with Elilzabeth                           1976.0   \n",
      "\n",
      "   Year of Last Major Work (arguable)  Year of Death  num_nominations  \\\n",
      "0                                2016            NaN               26   \n",
      "1                                2016            NaN               97   \n",
      "2                                2014            NaN               32   \n",
      "3                                1989         1989.0               23   \n",
      "4                                2016            NaN               39   \n",
      "\n",
      "   num_awards  num_oscars  \n",
      "0          55           1  \n",
      "1          78           2  \n",
      "2          35           0  \n",
      "3          34          11  \n",
      "4          40           0  \n",
      "\n",
      "Mean number of awards by gender:\n",
      "Gender (traditional)\n",
      "F    55.8\n",
      "M    40.2\n",
      "Name: num_awards, dtype: float64\n",
      "\n",
      "T-Test result: t-statistic = -1.1716809192013604, p-value = 0.2525113815664072\n",
      "\n",
      "Correlation between gender and number of awards: -0.1722798619033973\n"
     ]
    },
    {
     "data": {
      "image/png": "[encoded data removed]",
      "text/plain": [
       "<Figure size 800x600 with 1 Axes>"
      ]
     },
     "metadata": {},
     "output_type": "display_data"
    },
    {
     "name": "stdout",
     "output_type": "stream",
     "text": [
      "\n",
      "Regression analysis results:\n",
      "                            OLS Regression Results                            \n",
      "==============================================================================\n",
      "Dep. Variable:             num_awards   R-squared:                       0.030\n",
      "Model:                            OLS   Adj. R-squared:                  0.015\n",
      "Method:                 Least Squares   F-statistic:                     2.080\n",
      "Date:                Sun, 05 Jan 2025   Prob (F-statistic):              0.154\n",
      "Time:                        18:01:55   Log-Likelihood:                -358.06\n",
      "No. Observations:                  70   AIC:                             720.1\n",
      "Df Residuals:                      68   BIC:                             724.6\n",
      "Df Model:                           1                                         \n",
      "Covariance Type:            nonrobust                                         \n",
      "==================================================================================\n",
      "                     coef    std err          t      P>|t|      [0.025      0.975]\n",
      "----------------------------------------------------------------------------------\n",
      "const             55.8000      9.142      6.104      0.000      37.558      74.042\n",
      "Gender_encoded   -15.6000     10.817     -1.442      0.154     -37.184       5.984\n",
      "==============================================================================\n",
      "Omnibus:                       32.411   Durbin-Watson:                   2.013\n",
      "Prob(Omnibus):                  0.000   Jarque-Bera (JB):               64.912\n",
      "Skew:                           1.625   Prob(JB):                     8.03e-15\n",
      "Kurtosis:                       6.420   Cond. No.                         3.51\n",
      "==============================================================================\n",
      "\n",
      "Notes:\n",
      "[1] Standard Errors assume that the covariance matrix of the errors is correctly specified.\n"
     ]
    }
   ],
   "source": [
    "import pandas as pd\n",
    "import scipy.stats as stats\n",
    "import matplotlib.pyplot as plt\n",
    "import seaborn as sns\n",
    "\n",
    "df = pd.read_excel(\"C:\\\\Users\\\\91797\\\\Downloads\\\\main_data.xlsx\") \n",
    "\n",
    "print(df.head())\n",
    "\n",
    "# Step 1: Descriptive statistics - mean awards by gender\n",
    "mean_awards_gender = df.groupby('Gender (traditional)')['num_awards'].mean()\n",
    "print(\"\\nMean number of awards by gender:\")\n",
    "print(mean_awards_gender)\n",
    "\n",
    "# Step 2: T-test - Compare the means of 'num_awards' between males and females\n",
    "male_awards = df[df['Gender (traditional)'] == 'M']['num_awards']\n",
    "female_awards = df[df['Gender (traditional)'] == 'F']['num_awards']\n",
    "\n",
    "t_stat, p_value = stats.ttest_ind(male_awards, female_awards, equal_var=False)  # Welch’s T-test\n",
    "print(f\"\\nT-Test result: t-statistic = {t_stat}, p-value = {p_value}\")\n",
    "\n",
    "# Step 3: Correlation - Encode gender as numeric and calculate correlation\n",
    "df['Gender_encoded'] = df['Gender (traditional)'].map({'M': 1, 'F': 0})  # Encode Male = 1, Female = 0\n",
    "correlation = df['Gender_encoded'].corr(df['num_awards'])\n",
    "print(f\"\\nCorrelation between gender and number of awards: {correlation}\")\n",
    "\n",
    "# Step 4: Visual Analysis - Box plot to compare the distribution of awards by gender\n",
    "plt.figure(figsize=(8, 6))\n",
    "sns.boxplot(x='Gender (traditional)', y='num_awards', data=df)\n",
    "plt.title('Box plot of Number of Awards by Gender')\n",
    "plt.show()\n",
    "\n",
    "# Step 5: Regression Analysis - Linear regression model between gender and num_awards\n",
    "import statsmodels.api as sm\n",
    "\n",
    "# Independent variable (gender encoded) and dependent variable (num_awards)\n",
    "X = sm.add_constant(df['Gender_encoded']) =\n",
    "y = df['num_awards']\n",
    "\n",
    "# Fit the regression model\n",
    "model = sm.OLS(y, X).fit()\n",
    "\n",
    "# Display the regression results\n",
    "print(\"\\nRegression analysis results:\")\n",
    "print(model.summary())\n"
   ]
  },
  {
   "cell_type": "code",
   "execution_count": null,
   "id": "b0aef0d3-66db-40b8-94dc-b758447791f5",
   "metadata": {},
   "outputs": [],
   "source": [
    "#The regression analysis shows no significant relationship between gender and the number of awards (p-value = 0.154). The model explains only 3% of the variance in awards (R² = 0.030), suggesting other factors like profession or lifetime likely play a bigger role."
   ]
  }
 ],
 "metadata": {
  "kernelspec": {
   "display_name": "Python 3 (ipykernel)",
   "language": "python",
   "name": "python3"
  },
  "language_info": {
   "codemirror_mode": {
    "name": "ipython",
    "version": 3
   },
   "file_extension": ".py",
   "mimetype": "text/x-python",
   "name": "python",
   "nbconvert_exporter": "python",
   "pygments_lexer": "ipython3",
   "version": "3.11.7"
  }
 },
 "nbformat": 4,
 "nbformat_minor": 5
}
